{
 "cells": [
  {
   "cell_type": "markdown",
   "metadata": {},
   "source": [
    "# Count the number of each base in the DNA sequence.\n",
    "## Store the result in a dictionary."
   ]
  },
  {
   "cell_type": "code",
   "execution_count": 2,
   "metadata": {},
   "outputs": [
    {
     "name": "stdout",
     "output_type": "stream",
     "text": [
      "CATACTAGCCGCCAAACTGGCGTACCGAGCGGCGCCACACGTTGGCCAGCAATTAGGATAATAACCCAAGGGCGAAACAGACTGATGTTACGGTGACGGCAGTGATTCTTGTTGTCGTCGTTTCACCAAACGAAATACCGCATACAATAAGTAAAATGCCGGTGACGGGCTCCTTGCAAGTACTGGAAAATCCCGTTGCAGCGGGTAACTCTCAGCTCCTCCACAAACTTACAGCGTAAGGTGAACTTCCTATCGGGATAGTTACAATCTTATAGTACGCAAATCAGAGCCAACGCGCAACAGTCAAACGAATCCGTCTCGGCATACGGCATCCGCGGAGTGCTTTCGAGGCTAGATGTCGACGATGAAACGTACCCACCCAACATACAGTACAGTCCTTGTTGATTTCTCCCGGGCTTCGAGCACGAGCCTAACCCCACCAAGGCCGCGCGGTTGGAACCACTATCTGGTAGGCAACTATGTGTACGGTCTTAACAGAATGCTTGATTTGTAGGGTGGCACAATTTGGACCATAAAACGGGGCGGCTGGTTGCTAAGGCCGAACCGTATCGGTCGCTTACTCACACGTTACGTCCATCCGTCCGGGGTATGCCCGGTCAGTAGACAGGCGAGCTTCTTACCTTGCATCCACCCTATTGTACACCGTCATCGTTTCGAGTGTTCAGTCTTTTATGTATATGAAACGATTCAATTATTTGGACGTCATGTTGTCTGTTTACCTTACAGGCCCGTCGGATTTATCAGCGACATTCGCTCCTACTCCAGCCAGTGGAGCGTAACAAGTTACAGAACTCCCGTGCTTGAACCTAAGGACCTCTCAACTGTACTCTTAGATTGGACAATACTTTC\n",
      "\n"
     ]
    }
   ],
   "source": [
    "with open(\"/home/jesse/Downloads/rosalind_dna.txt\") as f:\n",
    "    rosDNA = f.read()\n",
    "print(rosDNA)"
   ]
  },
  {
   "cell_type": "code",
   "execution_count": 3,
   "metadata": {},
   "outputs": [
    {
     "name": "stdout",
     "output_type": "stream",
     "text": [
      "221 232 203 214\n"
     ]
    }
   ],
   "source": [
    "dnaDict = {}\n",
    "for base in rosDNA:\n",
    "    if base in dnaDict:\n",
    "        dnaDict[base] += 1\n",
    "    else:\n",
    "        dnaDict[base] = 1\n",
    "        \n",
    "print(dnaDict['A'],dnaDict['C'],dnaDict['G'],dnaDict['T'])\n",
    "    "
   ]
  }
 ],
 "metadata": {
  "kernelspec": {
   "display_name": "Python 3",
   "language": "python",
   "name": "python3"
  },
  "language_info": {
   "codemirror_mode": {
    "name": "ipython",
    "version": 3
   },
   "file_extension": ".py",
   "mimetype": "text/x-python",
   "name": "python",
   "nbconvert_exporter": "python",
   "pygments_lexer": "ipython3",
   "version": "3.6.1"
  }
 },
 "nbformat": 4,
 "nbformat_minor": 2
}
