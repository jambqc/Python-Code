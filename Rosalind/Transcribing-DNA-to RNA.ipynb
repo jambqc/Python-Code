{
 "cells": [
  {
   "cell_type": "markdown",
   "metadata": {},
   "source": [
    "# Transcribing DNA into RNA"
   ]
  },
  {
   "cell_type": "code",
   "execution_count": 1,
   "metadata": {},
   "outputs": [
    {
     "name": "stdout",
     "output_type": "stream",
     "text": [
      "CCCCAGACUCUAGCGGUAUGUCUUACCGCUAAUUGUCGUUAAACAUAAUCGCUCAGUAAACAGGUCCUGUCCAUUAAUUCAAGUCUCCCAGAGCUUGCGUUGUAAAUUACGUUGCACUCGAGGUGGUCUCUAGACGUGGUCGUGCUUGAAAAUACCGGGUGAUCCCAUCUUAAUAACGCAAUUGAUCGUGGAUGGGCGCGACAGACGGGUGUUCGGUGCUAUCCAUGCUAUCCCAUCACUAGAUUCGAGCUUGCCGCUGUAAUUAGAUGGUCAUGGUGUAACCCCACUUCUCGAAUAUCAACAAAGAUCGCGGGUAGGCUGCCAUGCGACUCUGUUGGUUCCACGGAUCUUAUCCAUGGUCUCGAUUUAUGGUUGUUCGAGACGUGCUCACCGCAAAUGCUGGUUGGGAAACCUUACUUUCGUAGUACGAAUUCUCCGUGGUCAACUUCCAUAGUAUUGAUAACUACAGAGACAAGCAAAUUUGCGUGAUUGAGGUUCAUCUUCGAGGCACCCUAAGGCGUUACACGGCACCUCAUCCUCGCCUCCGCCAAAAAUUACCGGUUACUGCCCUAGAGUGUGCUAAUUAUAGAUUGAAUCACGGCUCAUUGAAUGGUAAAAUCUGCAGCAGUCUUUCCCGUACGACGGCUGGUUUCAUACCGGUGAGUGAGCCGCGUUCGAAGGAGGGGGAGACGCCAAGUUGCCUCGCGAGGAAUUUCGACGACAUUGCUAGCUGAUUGGCACCACCGAAGAAACGGCGGCACGAUUUUCCCGGUGGACGCGAGAAGUGUUCUACCCCCCAAUGCUUGGGGAUAUUCUCUGCAUAAUCGCACACCCAAUCCCUCCAGGAUUCGGAGCCGCAAGAGACGCGGAAGUGAAGGUUGGCGACUUGUCCAAGGUAUACGAUCGAGA\n",
      "\n"
     ]
    }
   ],
   "source": [
    "with open(\"/home/jesse/Downloads/rosalind_rna (2).txt\") as f:\n",
    "    dnaSeq = f.read()\n",
    "\n",
    "# Take advantage of simple replace method to transcribe the dna\n",
    "rna = dnaSeq.replace('T', 'U')\n",
    "print(rna)"
   ]
  }
 ],
 "metadata": {
  "kernelspec": {
   "display_name": "Python 3",
   "language": "python",
   "name": "python3"
  },
  "language_info": {
   "codemirror_mode": {
    "name": "ipython",
    "version": 3
   },
   "file_extension": ".py",
   "mimetype": "text/x-python",
   "name": "python",
   "nbconvert_exporter": "python",
   "pygments_lexer": "ipython3",
   "version": "3.6.1"
  }
 },
 "nbformat": 4,
 "nbformat_minor": 2
}
